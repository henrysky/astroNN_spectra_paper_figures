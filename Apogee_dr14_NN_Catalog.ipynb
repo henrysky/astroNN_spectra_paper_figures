{
 "cells": [
  {
   "cell_type": "markdown",
   "metadata": {},
   "source": [
    "# To generate stellar parameters and abundances for whole Apogee DR14\n",
    "\n",
    "### Please notice this notebook requires intensive computational resources to run for approx. few hours"
   ]
  },
  {
   "cell_type": "markdown",
   "metadata": {},
   "source": [
    "First we need to do continuum normalization on the whole Apogee DR14 combined spectra and save the file"
   ]
  },
  {
   "cell_type": "code",
   "execution_count": null,
   "metadata": {},
   "outputs": [],
   "source": [
    "import numpy as np\n",
    "import time\n",
    "import h5py\n",
    "from astropy.io import fits\n",
    "\n",
    "from astroNN.apogee import allstar, visit_spectra\n",
    "from astroNN.datasets import xmatch\n",
    "from astroNN.gaia import mag_to_fakemag\n",
    "from astroNN.apogee.chips import apogee_continuum, gap_delete\n",
    "from astroNN.nn.losses import mean_absolute_percentage_error\n",
    "\n",
    "target_bit = [0, 1, 2, 3, 4, 5, 6, 7, 12]\n",
    "def apstar_normalization(spectra, spectra_err, _spec_mask):\n",
    "    return apogee_continuum(spectra=spectra, spectra_err=spectra_err, cont_mask=None, deg=2, dr=14, bitmask=_spec_mask)\n",
    "\n",
    "allstar_data = fits.getdata(allstar(dr=14))\n",
    "\n",
    "start_time = time.time()\n",
    "\n",
    "total_num = allstar_data['RA'].shape[0]\n",
    "spec = np.zeros((total_num, 7514), dtype=np.float32)\n",
    "\n",
    "for counter in range(0, total_num):\n",
    "    if allstar_data['LOCATION_ID'][counter] == 1:\n",
    "        continue\n",
    "    ap_path = visit_spectra(dr=14, apogee=allstar_data['APOGEE_ID'][counter], \n",
    "                            location=allstar_data['LOCATION_ID'][counter], verbose=0)\n",
    "    if ap_path is False:\n",
    "        pass\n",
    "    else:\n",
    "        apstar_file = fits.open(ap_path)\n",
    "        nvisits = apstar_file[0].header['NVISITS']\n",
    "        # we only want combined spectra\n",
    "        if nvisits == 1:\n",
    "            _spec = apstar_file[1].data\n",
    "            _spec_err = apstar_file[2].data\n",
    "            _spec_mask = apstar_file[3].data\n",
    "        else:\n",
    "            _spec = apstar_file[1].data[1]\n",
    "            _spec_err = apstar_file[2].data[1]\n",
    "            _spec_mask = apstar_file[3].data[1]\n",
    "        \n",
    "        if not np.all(_spec==0.):\n",
    "            _spec, _spec_err = apstar_normalization(_spec, _spec_err, _spec_mask)\n",
    "            spec[counter] = _spec\n",
    "\n",
    "    if counter % 100 == 0:\n",
    "        print(f'Completed {counter} of {total_num}, {(time.time() - start_time):.{2}f}s elapsed')\n",
    "        \n",
    "# save a fits\n",
    "hdu = fits.PrimaryHDU(spec)\n",
    "hdu.writeto('contspec_dr14.fits')"
   ]
  },
  {
   "cell_type": "markdown",
   "metadata": {},
   "source": [
    "Then we do inference on all combined spectra loaded from the compiled file and generate a catalog"
   ]
  },
  {
   "cell_type": "code",
   "execution_count": null,
   "metadata": {
    "scrolled": true
   },
   "outputs": [],
   "source": [
    "import numpy as np\n",
    "import time\n",
    "import h5py\n",
    "from astropy.io import fits\n",
    "\n",
    "from astroNN.apogee import allstar, visit_spectra\n",
    "from astroNN.datasets import xmatch\n",
    "from astroNN.gaia import mag_to_fakemag\n",
    "from astroNN.apogee.chips import apogee_continuum, gap_delete\n",
    "from astroNN.nn.losses import mean_absolute_percentage_error\n",
    "from astroNN.models import load_folder\n",
    "\n",
    "net = load_folder(\"your_astroNN_model_here\")\n",
    "\n",
    "file = fits.open(\"contspec_dr14.fits\")\n",
    "allstar_file = fits.open(allstar(dr=14))\n",
    "all_spec = file[0].data\n",
    "        \n",
    "pred, pred_error = net.test(all_spec)\n",
    "\n",
    "# some spectra are all zeros, set prediction for those spectra to -9999.\n",
    "pred[np.all(all_spec == 0., axis=1)] = -9999.\n",
    "pred_error['total'][np.all(all_spec == 0., axis=1)] = -9999.\n",
    "\n",
    "# save a fits\n",
    "c1 = fits.Column(name='APOGEE_ID', array=allstar_data['APOGEE_ID'], format=\"18A\")\n",
    "c2 = fits.Column(name='LOCATION_ID', array=allstar_data['LOCATION_ID'], format=\"J\")\n",
    "c3 = fits.Column(name='RA', array=allstar_data['RA'], format='D')\n",
    "c4 = fits.Column(name='DEC', array=allstar_data['DEC'], format='D')\n",
    "c5 = fits.Column(name='astroNN', array=pred, format='22E')\n",
    "c6 = fits.Column(name='astroNN_error', array=pred_error['total'], format='22E')\n",
    "\n",
    "t = fits.BinTableHDU.from_columns([c1, c2, c3, c4, c5, c6])\n",
    "t.writeto('astroNN_apogee_dr14_catalog.fits')"
   ]
  }
 ],
 "metadata": {
  "kernelspec": {
   "display_name": "Python 3",
   "language": "python",
   "name": "python3"
  },
  "language_info": {
   "codemirror_mode": {
    "name": "ipython",
    "version": 3
   },
   "file_extension": ".py",
   "mimetype": "text/x-python",
   "name": "python",
   "nbconvert_exporter": "python",
   "pygments_lexer": "ipython3",
   "version": "3.6.5"
  }
 },
 "nbformat": 4,
 "nbformat_minor": 2
}
